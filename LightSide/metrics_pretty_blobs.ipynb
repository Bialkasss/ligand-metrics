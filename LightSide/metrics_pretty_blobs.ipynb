{
 "cells": [
  {
   "cell_type": "code",
   "execution_count": 68,
   "metadata": {},
   "outputs": [],
   "source": [
    "%run metrics.py"
   ]
  },
  {
   "cell_type": "code",
   "execution_count": 69,
   "metadata": {},
   "outputs": [],
   "source": [
    "import numpy as np"
   ]
  },
  {
   "cell_type": "code",
   "execution_count": 70,
   "metadata": {},
   "outputs": [],
   "source": [
    "# %pip install scipy --upgrade"
   ]
  },
  {
   "cell_type": "code",
   "execution_count": 71,
   "metadata": {},
   "outputs": [],
   "source": [
    "voxel_basic = np.load(\"voxel_base.npy\")\n",
    "voxel_different_hole = np.load(\"voxel_different_hole.npy\")\n",
    "voxel_different = np.load(\"voxel_different.npy\")\n",
    "voxel_loss_big = np.load(\"voxel_loss_big.npy\")\n",
    "voxel_loss_small = np.load(\"voxel_loss_small.npy\")\n",
    "voxel_with_blob = np.load(\"voxel_with_blob.npy\")"
   ]
  },
  {
   "cell_type": "code",
   "execution_count": 72,
   "metadata": {},
   "outputs": [],
   "source": [
    "blob_perfect = np.load(\"perfect_blob.npy\")\n",
    "blob_cut = np.load(\"cut_blob.npy\")"
   ]
  },
  {
   "cell_type": "code",
   "execution_count": 73,
   "metadata": {},
   "outputs": [],
   "source": [
    "# Calculate Total Variation Distances\n",
    "tvd_basic_to_basic = round(total_variation_distance(voxel_basic, voxel_basic), 4)\n",
    "tvd_basic_to_different = round(total_variation_distance(voxel_basic, voxel_different), 4)\n",
    "tvd_basic_to_loss_big = round(total_variation_distance(voxel_basic, voxel_loss_big), 4)\n",
    "tvd_basic_to_loss_small = round(total_variation_distance(voxel_basic, voxel_loss_small), 4)\n",
    "tvd_basic_to_with_blob = round(total_variation_distance(voxel_basic, voxel_with_blob), 4)\n",
    "tvd_hole = round(total_variation_distance(voxel_different, voxel_different_hole), 4) \n",
    "symmetry_check_tvd =  round(total_variation_distance(voxel_different, voxel_basic), 4)\n",
    "symmetry_tvd = 1 if symmetry_check_tvd == tvd_basic_to_different else 0\n",
    "# # Print the results\n",
    "# print(f\"Total Variation Distance (Basic to Basic): {tvd_basic_to_basic}\")\n",
    "# print(f\"Total Variation Distance (Basic to Different): {tvd_basic_to_different}\")\n",
    "# print(f\"Total Variation Distance (Basic to Loss Big): {tvd_basic_to_loss_big}\")\n",
    "# print(f\"Total Variation Distance (Basic to Loss Small): {tvd_basic_to_loss_small}\")\n",
    "# print(f\"Total Variation Distance (Basic to With Blob): {tvd_basic_to_with_blob}\")\n",
    "# print(f\"Total Variation Distance (Different to With Hole): {tvd_hole}\")"
   ]
  },
  {
   "cell_type": "code",
   "execution_count": 74,
   "metadata": {},
   "outputs": [],
   "source": [
    "# Calculate Wasserstein Distances ravelled 1d\n",
    "wd_basic_to_basic = round(wasserstein_dst_voxel(voxel_basic, voxel_basic), 4)\n",
    "wd_basic_to_different = round(wasserstein_dst_voxel(voxel_basic, voxel_different), 4)\n",
    "wd_basic_to_loss_big = round(wasserstein_dst_voxel(voxel_basic, voxel_loss_big), 4)\n",
    "wd_basic_to_loss_small = round(wasserstein_dst_voxel(voxel_basic, voxel_loss_small), 4)\n",
    "wd_basic_to_with_blob = round(wasserstein_dst_voxel(voxel_basic, voxel_with_blob), 4)\n",
    "wd_hole = round(wasserstein_dst_voxel(voxel_different, voxel_different_hole), 4)   \n",
    "symmetry_check_wd =  round(wasserstein_dst_voxel(voxel_different, voxel_basic), 4)\n",
    "symmetry_wd = 1 if symmetry_check_wd == wd_basic_to_different else 0\n",
    "\n",
    "# # Print the results\n",
    "# print(f\"Wasserstein Distance (Basic to Basic): {wd_basic_to_basic}\")\n",
    "# print(f\"Wasserstein Distance (Basic to Different): {wd_basic_to_different}\")\n",
    "# print(f\"Wasserstein Distance (Basic to Loss Big): {wd_basic_to_loss_big}\")\n",
    "# print(f\"Wasserstein Distance (Basic to Loss Small): {wd_basic_to_loss_small}\")\n",
    "# print(f\"Wasserstein Distance (Basic to With Blob): {wd_basic_to_with_blob}\")\n",
    "# print(f\"Wasserstein Distance (Different to With Hole): {wd_hole}\")"
   ]
  },
  {
   "cell_type": "code",
   "execution_count": 75,
   "metadata": {},
   "outputs": [],
   "source": [
    "# Calculate Gradient Magnitude Similarity Deviation\n",
    "gmsd_basic_to_basic = round(1- gradient_magnitude_similarity_deviation(voxel_basic, voxel_basic), 4)\n",
    "gmsd_basic_to_different = round(1- gradient_magnitude_similarity_deviation(voxel_basic, voxel_different), 4)\n",
    "gmsd_basic_to_loss_big = round(1- gradient_magnitude_similarity_deviation(voxel_basic, voxel_loss_big), 4)\n",
    "gmsd_basic_to_loss_small = round(1- gradient_magnitude_similarity_deviation(voxel_basic, voxel_loss_small), 4)\n",
    "gmsd_basic_to_with_blob = round(1- gradient_magnitude_similarity_deviation(voxel_basic, voxel_with_blob), 4)\n",
    "gmsd_hole = round(1- gradient_magnitude_similarity_deviation(voxel_different, voxel_different_hole), 4)   \n",
    "symmetry_check_gmsd =  round(1 -gradient_magnitude_similarity_deviation(voxel_different, voxel_basic), 4)\n",
    "symmetry_gmsd = 1 if symmetry_check_gmsd == gmsd_basic_to_different else 0\n",
    "# # Print the results\n",
    "# print(f\"Gradient Magnitude Similarity Deviation (Basic to Basic): {gmsd_basic_to_basic}\")\n",
    "# print(f\"Gradient Magnitude Similarity Deviation (Basic to Different): {gmsd_basic_to_different}\")\n",
    "# print(f\"Gradient Magnitude Similarity Deviation (Basic to Loss Big): {gmsd_basic_to_loss_big}\")\n",
    "# print(f\"Gradient Magnitude Similarity Deviation (Basic to Loss Small): {gmsd_basic_to_loss_small}\")\n",
    "# print(f\"Gradient Magnitude Similarity Deviation (Basic to With Blob): {gmsd_basic_to_with_blob}\")\n",
    "# print(f\"Gradient Magnitude Similarity Deviation (Different to With Hole): {gmsd_hole}\")"
   ]
  },
  {
   "cell_type": "code",
   "execution_count": 76,
   "metadata": {},
   "outputs": [],
   "source": [
    "# Calculate Hausdorff Distances\n",
    "hd_basic_to_basic = round(Hausdorff_dist(voxel_basic, voxel_basic), 4)\n",
    "hd_basic_to_different = round(Hausdorff_dist(voxel_basic, voxel_different), 4)\n",
    "hd_basic_to_loss_big = round(Hausdorff_dist(voxel_basic, voxel_loss_big), 4)\n",
    "hd_basic_to_loss_small = round(Hausdorff_dist(voxel_basic, voxel_loss_small), 4)\n",
    "hd_basic_to_with_blob = round(Hausdorff_dist(voxel_basic, voxel_with_blob), 4)\n",
    "hd_hole = round(Hausdorff_dist(voxel_different, voxel_different_hole), 4)   \n",
    "symmetry_check_hd =  round(Hausdorff_dist(voxel_different, voxel_basic), 4)\n",
    "symmetry_hd = 1 if symmetry_check_hd == hd_basic_to_different else 0\n",
    "# # Print the results\n",
    "# print(f\"Hausdorff Distance (Basic to Basic): {hd_basic_to_basic}\")\n",
    "# print(f\"Hausdorff Distance (Basic to Different): {hd_basic_to_different}\")\n",
    "# print(f\"Hausdorff Distance (Basic to Loss Big): {hd_basic_to_loss_big}\")\n",
    "# print(f\"Hausdorff Distance (Basic to Loss Small): {hd_basic_to_loss_small}\")\n",
    "# print(f\"Hausdorff Distance (Basic to With Blob): {hd_basic_to_with_blob}\")\n",
    "# print(f\"Hausdorff Distance (Different to With Hole): {hd_hole}\")"
   ]
  },
  {
   "cell_type": "code",
   "execution_count": 77,
   "metadata": {},
   "outputs": [],
   "source": [
    "# Calculate Hausdorff Normalized Distances\n",
    "hdn_basic_to_basic = round(Hausdorff_normalized(voxel_basic, voxel_basic), 4)\n",
    "hdn_basic_to_different = round(Hausdorff_normalized(voxel_basic, voxel_different), 4)\n",
    "hdn_basic_to_loss_big = round(Hausdorff_normalized(voxel_basic, voxel_loss_big), 4)\n",
    "hdn_basic_to_loss_small = round(Hausdorff_normalized(voxel_basic, voxel_loss_small), 4)\n",
    "hdn_basic_to_with_blob = round(Hausdorff_normalized(voxel_basic, voxel_with_blob), 4)\n",
    "hdn_hole = round(Hausdorff_normalized(voxel_different, voxel_different_hole), 4)   \n",
    "symmetry_check_hdn = round(Hausdorff_normalized(voxel_different, voxel_basic), 4)\n",
    "symmetry_hdn = 1 if symmetry_check_hdn == hdn_basic_to_different else 0\n",
    "\n",
    "# Calculate Hausdorff Normalized Distances for y to x\n",
    "hdn_basic_to_basic_yx = round(Hausdorff_normalized(voxel_basic, voxel_basic), 4)\n",
    "hdn_basic_to_different_yx = round(Hausdorff_normalized(voxel_different, voxel_basic), 4)\n",
    "hdn_basic_to_loss_big_yx = round(Hausdorff_normalized(voxel_loss_big, voxel_basic), 4)\n",
    "hdn_basic_to_loss_small_yx = round(Hausdorff_normalized(voxel_loss_small, voxel_basic), 4)\n",
    "hdn_basic_to_with_blob_yx = round(Hausdorff_normalized(voxel_with_blob, voxel_basic), 4)\n",
    "hdn_hole_yx = round(Hausdorff_normalized(voxel_different_hole, voxel_different), 4)   \n",
    "symmetry_check_hdn_yx = round(Hausdorff_normalized(voxel_basic, voxel_different), 4)\n",
    "symmetry_hdn_yx = 1 if symmetry_check_hdn_yx == hdn_basic_to_different_yx else 0\n",
    "\n",
    "# # Print the results\n",
    "# print(f\"Hausdorff Normalized Distance (Basic to Basic): {hdn_basic_to_basic} and {hdn_basic_to_basic_yx}\")\n",
    "# print(f\"Hausdorff Normalized Distance (Basic to Different): {hdn_basic_to_different} and {hdn_basic_to_different_yx}\")\n",
    "# print(f\"Hausdorff Normalized Distance (Basic to Loss Big): {hdn_basic_to_loss_big} and {hdn_basic_to_loss_big_yx}\")\n",
    "# print(f\"Hausdorff Normalized Distance (Basic to Loss Small): {hdn_basic_to_loss_small} and {hdn_basic_to_loss_small_yx}\")\n",
    "# print(f\"Hausdorff Normalized Distance (Basic to With Blob): {hdn_basic_to_with_blob} and {hdn_basic_to_with_blob_yx}\")\n",
    "# print(f\"Hausdorff Normalized Distance (Different to With Hole): {hdn_hole} and {hdn_hole_yx}\")"
   ]
  },
  {
   "cell_type": "code",
   "execution_count": 78,
   "metadata": {},
   "outputs": [],
   "source": [
    "qscore_basic_to_basic = round(qscore_similarity(voxel_basic, voxel_basic), 4)\n",
    "qscore_basic_to_different = round(qscore_similarity(voxel_basic, voxel_different), 4)\n",
    "qscore_basic_to_loss_big = round(qscore_similarity(voxel_basic, voxel_loss_big), 4)\n",
    "qscore_basic_to_loss_small = round(qscore_similarity(voxel_basic, voxel_loss_small), 4)\n",
    "qscore_basic_to_with_blob = round(qscore_similarity(voxel_basic, voxel_with_blob), 4)\n",
    "qscore_hole = round(qscore_similarity(voxel_different, voxel_different_hole), 4)   \n",
    "symmetry_check_qscore = round(qscore_similarity(voxel_different, voxel_basic), 4)\n",
    "symmetry_qscore = 1 if symmetry_check_qscore == qscore_basic_to_different else 0"
   ]
  },
  {
   "cell_type": "code",
   "execution_count": 81,
   "metadata": {},
   "outputs": [],
   "source": [
    "qscore1_basic_to_basic = round(compute_q_score(voxel_basic, voxel_basic), 4)\n",
    "qscore1_basic_to_different = round(compute_q_score(voxel_basic, voxel_different), 4)\n",
    "qscore1_basic_to_loss_big = round(compute_q_score(voxel_basic, voxel_loss_big), 4)\n",
    "qscore1_basic_to_loss_small = round(compute_q_score(voxel_basic, voxel_loss_small), 4)\n",
    "qscore1_basic_to_with_blob = round(compute_q_score(voxel_basic, voxel_with_blob), 4)\n",
    "qscore1_hole = round(compute_q_score(voxel_different, voxel_different_hole), 4)   \n",
    "symmetry_check_qscore1 = round(compute_q_score(voxel_different, voxel_basic), 4)\n",
    "symmetry_qscore1 = 1 if symmetry_check_qscore1 == qscore1_basic_to_different else 0"
   ]
  },
  {
   "cell_type": "code",
   "execution_count": 57,
   "metadata": {},
   "outputs": [],
   "source": [
    "# # Calculate Wasserstein Distances with _nd\n",
    "# wd_basic_to_basic = round(wasser(voxel_basic, voxel_basic), 4)\n",
    "# wd_basic_to_different = round(wasser(voxel_basic, voxel_different), 4)\n",
    "# wd_basic_to_loss_big = round(wasser(voxel_basic, voxel_loss_big), 4)\n",
    "# wd_basic_to_loss_small = round(wasser(voxel_basic, voxel_loss_small), 4)\n",
    "# wd_basic_to_with_blob = round(wasser(voxel_basic, voxel_with_blob), 4)\n",
    "# wd_hole = round(wasser(voxel_different, voxel_different_hole), 4)   \n",
    "# symmetry_check_wd = round(wasser(voxel_different, voxel_basic), 4)\n",
    "# symmetry_wd = 1 if symmetry_check_wd == wd_basic_to_different else 0\n",
    "\n",
    "# # Print the results\n",
    "# print(f\"Wasserstein Distance (Basic to Basic): {wd_basic_to_basic}\")\n",
    "# print(f\"Wasserstein Distance (Basic to Different): {wd_basic_to_different}\")\n",
    "# print(f\"Wasserstein Distance (Basic to Loss Big): {wd_basic_to_loss_big}\")\n",
    "# print(f\"Wasserstein Distance (Basic to Loss Small): {wd_basic_to_loss_small}\")\n",
    "# print(f\"Wasserstein Distance (Basic to With Blob): {wd_basic_to_with_blob}\")\n",
    "# print(f\"Wasserstein Distance (Different to With Hole): {wd_hole}\")\n",
    "# print(f\"Symmetry Check: {'Symmetric' if symmetry_wd else 'Not Symmetric'}\")\n"
   ]
  },
  {
   "cell_type": "code",
   "execution_count": 82,
   "metadata": {},
   "outputs": [
    {
     "name": "stdout",
     "output_type": "stream",
     "text": [
      "\n",
      "Simmilarity scores\n",
      "\n",
      "|                   | Identical | Different | Small loss | Big loss | with Growth | Hole   | Symetric |\n",
      "|-------------------|-----------|-----------|------------|----------|-------------|--------|----------|\n",
      "| **TVD**           | 0.0       | 0.1164    | 0.0001     | 0.0034   | 0.0034      | 0.0046 |   1   |\n",
      "| **Wasserstein**   | 0.0       | 0.0862    | 0.0001     | 0.0034   | 0.0034      | 0.0046 |   1   |\n",
      "| **Hausdorff Y,X** | 0.0       | 0.1022    | 0.0205     | 0.0512   | 0.0484      | 0.0817 |   0   |\n",
      "| **Hausdorff X,Y** | 0.0       | 0.2026    | 0.017      | 0.0371   | 0.058       | 0.1066 |   0   |\n",
      "| **Gradient**      | 0.0       | 0.6446    | 0.0004     | 0.0163   | 0.0178      | 0.0066 |   1   |\n",
      "| **Q-score?**       | 0.0       | 0.7713    | 0.003      | 0.0602   | 0.0431      | 0.0  |   1   |\n",
      "| **Q-score?**       | -0.0      | 0.4604    | 0.001      | 0.0273   | 0.0251      | 0.0373 |   1   |\n",
      "\n"
     ]
    }
   ],
   "source": [
    "table = f\"\"\"\n",
    "Simmilarity scores\n",
    "\n",
    "|                   | Identical | Different | Small loss | Big loss | with Growth | Hole   | Symetric |\n",
    "|-------------------|-----------|-----------|------------|----------|-------------|--------|----------|\n",
    "| **TVD**           | {tvd_basic_to_basic:<9} | {tvd_basic_to_different:<9} | {tvd_basic_to_loss_small:<10} | {tvd_basic_to_loss_big:<8} | {tvd_basic_to_with_blob:<11} | {tvd_hole:<4} |   {symmetry_tvd}   |\n",
    "| **Wasserstein**   | {wd_basic_to_basic:<9} | {wd_basic_to_different:<9} | {wd_basic_to_loss_small:<10} | {wd_basic_to_loss_big:<8} | {wd_basic_to_with_blob:<11} | {wd_hole:<4} |   {symmetry_wd}   |\n",
    "| **Hausdorff Y,X** | {hdn_basic_to_basic:<9} | {hdn_basic_to_different:<9} | {hdn_basic_to_loss_small:<10} | {hdn_basic_to_loss_big:<8} | {hdn_basic_to_with_blob:<11} | {hdn_hole:<4} |   {symmetry_hd}   |\n",
    "| **Hausdorff X,Y** | {hdn_basic_to_basic_yx:<9} | {hdn_basic_to_different_yx:<9} | {hdn_basic_to_loss_small_yx:<10} | {hdn_basic_to_loss_big_yx:<8} | {hdn_basic_to_with_blob_yx:<11} | {hdn_hole_yx:<4} |   {symmetry_hd}   |\n",
    "| **Gradient**      | {gmsd_basic_to_basic:<9} | {gmsd_basic_to_different:<9} | {gmsd_basic_to_loss_small:<10} | {gmsd_basic_to_loss_big:<8} | {gmsd_basic_to_with_blob:<11} | {gmsd_hole:<4} |   {symmetry_gmsd}   |\n",
    "| **Q-score?**       | {qscore_basic_to_basic:<9} | {qscore_basic_to_different:<9} | {qscore_basic_to_loss_small:<10} | {qscore_basic_to_loss_big:<8} | {qscore_basic_to_with_blob:<11} | {qscore_hole:<4} |   {symmetry_qscore}   |\n",
    "| **Q-score?**       | {qscore1_basic_to_basic:<9} | {qscore1_basic_to_different:<9} | {qscore1_basic_to_loss_small:<10} | {qscore1_basic_to_loss_big:<8} | {qscore1_basic_to_with_blob:<11} | {qscore1_hole:<4} |   {symmetry_qscore1}   |\n",
    "\"\"\"\n",
    "\n",
    "print(table)"
   ]
  },
  {
   "cell_type": "markdown",
   "metadata": {},
   "source": [
    "#### Similarity scores for the actual blobs from the dark side"
   ]
  },
  {
   "cell_type": "code",
   "execution_count": 83,
   "metadata": {},
   "outputs": [
    {
     "name": "stderr",
     "output_type": "stream",
     "text": [
      "c:\\Users\\mmart\\AppData\\Local\\Programs\\Python\\Python310\\lib\\site-packages\\numpy\\lib\\function_base.py:2853: RuntimeWarning: invalid value encountered in divide\n",
      "  c /= stddev[:, None]\n",
      "c:\\Users\\mmart\\AppData\\Local\\Programs\\Python\\Python310\\lib\\site-packages\\numpy\\lib\\function_base.py:2854: RuntimeWarning: invalid value encountered in divide\n",
      "  c /= stddev[None, :]\n"
     ]
    }
   ],
   "source": [
    "tvd_blobs = round(total_variation_distance(blob_perfect, blob_cut), 4)\n",
    "wd_blobs = round(wasserstein_dst_voxel(blob_perfect, blob_cut), 4)\n",
    "gmsd_blobs = round(1- gradient_magnitude_similarity_deviation(blob_perfect, blob_cut), 4)\n",
    "hd_blobs = round(Hausdorff_dist(blob_perfect, blob_cut), 4)\n",
    "hdn_blobs = round(Hausdorff_normalized(blob_perfect, blob_cut), 4)\n",
    "qscore_blobs = round(qscore_similarity(blob_perfect, blob_cut), 4)\n",
    "qscore1_blobs = round(compute_q_score(blob_perfect, blob_cut), 4)"
   ]
  },
  {
   "cell_type": "code",
   "execution_count": 66,
   "metadata": {},
   "outputs": [
    {
     "data": {
      "text/plain": [
       "array([[[0., 0., 0., ..., 0., 0., 0.],\n",
       "        [0., 0., 0., ..., 0., 0., 0.],\n",
       "        [0., 0., 0., ..., 0., 0., 0.],\n",
       "        ...,\n",
       "        [0., 0., 0., ..., 0., 0., 0.],\n",
       "        [0., 0., 0., ..., 0., 0., 0.],\n",
       "        [0., 0., 0., ..., 0., 0., 0.]],\n",
       "\n",
       "       [[0., 0., 0., ..., 0., 0., 0.],\n",
       "        [0., 0., 0., ..., 0., 0., 0.],\n",
       "        [0., 0., 0., ..., 0., 0., 0.],\n",
       "        ...,\n",
       "        [0., 0., 0., ..., 0., 0., 0.],\n",
       "        [0., 0., 0., ..., 0., 0., 0.],\n",
       "        [0., 0., 0., ..., 0., 0., 0.]],\n",
       "\n",
       "       [[0., 0., 0., ..., 0., 0., 0.],\n",
       "        [0., 0., 0., ..., 0., 0., 0.],\n",
       "        [0., 0., 0., ..., 0., 0., 0.],\n",
       "        ...,\n",
       "        [0., 0., 0., ..., 0., 0., 0.],\n",
       "        [0., 0., 0., ..., 0., 0., 0.],\n",
       "        [0., 0., 0., ..., 0., 0., 0.]],\n",
       "\n",
       "       ...,\n",
       "\n",
       "       [[0., 0., 0., ..., 0., 0., 0.],\n",
       "        [0., 0., 0., ..., 0., 0., 0.],\n",
       "        [0., 0., 0., ..., 0., 0., 0.],\n",
       "        ...,\n",
       "        [0., 0., 0., ..., 0., 0., 0.],\n",
       "        [0., 0., 0., ..., 0., 0., 0.],\n",
       "        [0., 0., 0., ..., 0., 0., 0.]],\n",
       "\n",
       "       [[0., 0., 0., ..., 0., 0., 0.],\n",
       "        [0., 0., 0., ..., 0., 0., 0.],\n",
       "        [0., 0., 0., ..., 0., 0., 0.],\n",
       "        ...,\n",
       "        [0., 0., 0., ..., 0., 0., 0.],\n",
       "        [0., 0., 0., ..., 0., 0., 0.],\n",
       "        [0., 0., 0., ..., 0., 0., 0.]],\n",
       "\n",
       "       [[0., 0., 0., ..., 0., 0., 0.],\n",
       "        [0., 0., 0., ..., 0., 0., 0.],\n",
       "        [0., 0., 0., ..., 0., 0., 0.],\n",
       "        ...,\n",
       "        [0., 0., 0., ..., 0., 0., 0.],\n",
       "        [0., 0., 0., ..., 0., 0., 0.],\n",
       "        [0., 0., 0., ..., 0., 0., 0.]]])"
      ]
     },
     "execution_count": 66,
     "metadata": {},
     "output_type": "execute_result"
    }
   ],
   "source": [
    "blob_cut"
   ]
  },
  {
   "cell_type": "code",
   "execution_count": 84,
   "metadata": {},
   "outputs": [
    {
     "name": "stdout",
     "output_type": "stream",
     "text": [
      "\n",
      "Simmilarity scores for actual blobs\n",
      "\n",
      "|                   | Blobs | \n",
      "|-------------------|-----------|\n",
      "| **TVD**           | 0.0041    | \n",
      "| **Wasserstein**   | 0.0028    | \n",
      "| **Hausdorff Y,X** | 13.2161   | \n",
      "| **Hausdorff X,Y** | 0.0621    | \n",
      "| **Gradient**      | 0.016     | \n",
      "| **Q-score?**       | nan       | \n",
      "| **Q-score?**       | 0.9185    | \n",
      "\n"
     ]
    }
   ],
   "source": [
    "table = f\"\"\"\n",
    "Simmilarity scores for actual blobs\n",
    "\n",
    "|                   | Blobs | \n",
    "|-------------------|-----------|\n",
    "| **TVD**           | {tvd_blobs:<9} | \n",
    "| **Wasserstein**   | {wd_blobs:<9} | \n",
    "| **Hausdorff Y,X** | {hd_blobs:<9} | \n",
    "| **Hausdorff X,Y** | {hdn_blobs:<9} | \n",
    "| **Gradient**      | {gmsd_blobs:<9} | \n",
    "| **Q-score?**       | {qscore_blobs:<9} | \n",
    "| **Q-score?**       | {qscore1_blobs:<9} | \n",
    "\"\"\"\n",
    "\n",
    "print(table)"
   ]
  },
  {
   "cell_type": "markdown",
   "metadata": {},
   "source": [
    "- Normalized Hausdorff by dividing by diagonal of box (longest distance possible)"
   ]
  },
  {
   "cell_type": "markdown",
   "metadata": {},
   "source": [
    "- can divide differently in TVD to not work on 0.000x values\n",
    "- hausdorf isnt symmetric. How to approach? Maybe its good if we want to determine loss/growth differently?\n",
    "- gradient feels good, but we accidentally can end up with compeletly diffeent shapes of the same gradient.\n",
    "- wasserstein is flattened to 1d. not implemented in 3d."
   ]
  }
 ],
 "metadata": {
  "kernelspec": {
   "display_name": "Python 3",
   "language": "python",
   "name": "python3"
  },
  "language_info": {
   "codemirror_mode": {
    "name": "ipython",
    "version": 3
   },
   "file_extension": ".py",
   "mimetype": "text/x-python",
   "name": "python",
   "nbconvert_exporter": "python",
   "pygments_lexer": "ipython3",
   "version": "3.10.7"
  }
 },
 "nbformat": 4,
 "nbformat_minor": 2
}
