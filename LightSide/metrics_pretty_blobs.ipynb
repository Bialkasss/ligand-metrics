{
 "cells": [
  {
   "cell_type": "code",
   "execution_count": 3,
   "metadata": {},
   "outputs": [],
   "source": [
    "%run metrics.py"
   ]
  },
  {
   "cell_type": "code",
   "execution_count": 4,
   "metadata": {},
   "outputs": [],
   "source": [
    "voxel_basic = np.load(\"voxel_base.npy\")\n",
    "voxel_different_hole = np.load(\"voxel_different_hole.npy\")\n",
    "voxel_different = np.load(\"voxel_different.npy\")\n",
    "voxel_loss_big = np.load(\"voxel_loss_big.npy\")\n",
    "voxel_loss_small = np.load(\"voxel_loss_small.npy\")\n",
    "voxel_with_blob = np.load(\"voxel_with_blob.npy\")"
   ]
  },
  {
   "cell_type": "code",
   "execution_count": 5,
   "metadata": {
    "vscode": {
     "languageId": "bat"
    }
   },
   "outputs": [
    {
     "name": "stdout",
     "output_type": "stream",
     "text": [
      "Total Variation Distance (Basic to Basic): 0.0\n",
      "Total Variation Distance (Basic to Different): 0.06\n",
      "Total Variation Distance (Basic to Loss Big): 0.0\n",
      "Total Variation Distance (Basic to Loss Small): 0.0\n",
      "Total Variation Distance (Basic to With Blob): 0.0\n",
      "Total Variation Distance (Different to With Hole): 0.0\n"
     ]
    }
   ],
   "source": [
    "# Calculate Total Variation Distances\n",
    "tvd_basic_to_basic = round(total_variation_distance(voxel_basic, voxel_basic), 2)\n",
    "tvd_basic_to_different = round(total_variation_distance(voxel_basic, voxel_different), 2)\n",
    "tvd_basic_to_loss_big = round(total_variation_distance(voxel_basic, voxel_loss_big), 2)\n",
    "tvd_basic_to_loss_small = round(total_variation_distance(voxel_basic, voxel_loss_small), 2)\n",
    "tvd_basic_to_with_blob = round(total_variation_distance(voxel_basic, voxel_with_blob), 2)\n",
    "tvd_hole = round(total_variation_distance(voxel_different, voxel_different_hole), 2)   \n",
    "\n",
    "# Print the results\n",
    "print(f\"Total Variation Distance (Basic to Basic): {tvd_basic_to_basic}\")\n",
    "print(f\"Total Variation Distance (Basic to Different): {tvd_basic_to_different}\")\n",
    "print(f\"Total Variation Distance (Basic to Loss Big): {tvd_basic_to_loss_big}\")\n",
    "print(f\"Total Variation Distance (Basic to Loss Small): {tvd_basic_to_loss_small}\")\n",
    "print(f\"Total Variation Distance (Basic to With Blob): {tvd_basic_to_with_blob}\")\n",
    "print(f\"Total Variation Distance (Different to With Hole): {tvd_hole}\")\n"
   ]
  },
  {
   "cell_type": "code",
   "execution_count": 6,
   "metadata": {},
   "outputs": [
    {
     "name": "stdout",
     "output_type": "stream",
     "text": [
      "Wasserstein Distance (Basic to Basic): 0.0\n",
      "Wasserstein Distance (Basic to Different): 0.0862\n",
      "Wasserstein Distance (Basic to Loss Big): 0.0034\n",
      "Wasserstein Distance (Basic to Loss Small): 0.0001\n",
      "Wasserstein Distance (Basic to With Blob): 0.0034\n",
      "Wasserstein Distance (Different to With Hole): 0.0046\n"
     ]
    }
   ],
   "source": [
    "# Calculate Wasserstein Distances\n",
    "wd_basic_to_basic = round(wasserstein_dst_voxel(voxel_basic, voxel_basic), 4)\n",
    "wd_basic_to_different = round(wasserstein_dst_voxel(voxel_basic, voxel_different), 4)\n",
    "wd_basic_to_loss_big = round(wasserstein_dst_voxel(voxel_basic, voxel_loss_big), 4)\n",
    "wd_basic_to_loss_small = round(wasserstein_dst_voxel(voxel_basic, voxel_loss_small), 4)\n",
    "wd_basic_to_with_blob = round(wasserstein_dst_voxel(voxel_basic, voxel_with_blob), 4)\n",
    "wd_hole = round(wasserstein_dst_voxel(voxel_different, voxel_different_hole), 4)   \n",
    "\n",
    "# Print the results\n",
    "print(f\"Wasserstein Distance (Basic to Basic): {wd_basic_to_basic}\")\n",
    "print(f\"Wasserstein Distance (Basic to Different): {wd_basic_to_different}\")\n",
    "print(f\"Wasserstein Distance (Basic to Loss Big): {wd_basic_to_loss_big}\")\n",
    "print(f\"Wasserstein Distance (Basic to Loss Small): {wd_basic_to_loss_small}\")\n",
    "print(f\"Wasserstein Distance (Basic to With Blob): {wd_basic_to_with_blob}\")\n",
    "print(f\"Wasserstein Distance (Different to With Hole): {wd_hole}\")\n"
   ]
  },
  {
   "cell_type": "code",
   "execution_count": 7,
   "metadata": {},
   "outputs": [
    {
     "name": "stdout",
     "output_type": "stream",
     "text": [
      "Gradient Magnitude Similarity Deviation (Basic to Basic): 1.0\n",
      "Gradient Magnitude Similarity Deviation (Basic to Different): 0.3554\n",
      "Gradient Magnitude Similarity Deviation (Basic to Loss Big): 0.9837\n",
      "Gradient Magnitude Similarity Deviation (Basic to Loss Small): 0.9996\n",
      "Gradient Magnitude Similarity Deviation (Basic to With Blob): 0.9822\n",
      "Gradient Magnitude Similarity Deviation (Different to With Hole): 0.9934\n"
     ]
    }
   ],
   "source": [
    "# Calculate Gradient Magnitude Similarity Deviation\n",
    "gmsd_basic_to_basic = round(gradient_magnitude_similarity_deviation(voxel_basic, voxel_basic), 4)\n",
    "gmsd_basic_to_different = round(gradient_magnitude_similarity_deviation(voxel_basic, voxel_different), 4)\n",
    "gmsd_basic_to_loss_big = round(gradient_magnitude_similarity_deviation(voxel_basic, voxel_loss_big), 4)\n",
    "gmsd_basic_to_loss_small = round(gradient_magnitude_similarity_deviation(voxel_basic, voxel_loss_small), 4)\n",
    "gmsd_basic_to_with_blob = round(gradient_magnitude_similarity_deviation(voxel_basic, voxel_with_blob), 4)\n",
    "gmsd_hole = round(gradient_magnitude_similarity_deviation(voxel_different, voxel_different_hole), 4)   \n",
    "\n",
    "# Print the results\n",
    "print(f\"Gradient Magnitude Similarity Deviation (Basic to Basic): {gmsd_basic_to_basic}\")\n",
    "print(f\"Gradient Magnitude Similarity Deviation (Basic to Different): {gmsd_basic_to_different}\")\n",
    "print(f\"Gradient Magnitude Similarity Deviation (Basic to Loss Big): {gmsd_basic_to_loss_big}\")\n",
    "print(f\"Gradient Magnitude Similarity Deviation (Basic to Loss Small): {gmsd_basic_to_loss_small}\")\n",
    "print(f\"Gradient Magnitude Similarity Deviation (Basic to With Blob): {gmsd_basic_to_with_blob}\")\n",
    "print(f\"Gradient Magnitude Similarity Deviation (Different to With Hole): {gmsd_hole}\")"
   ]
  },
  {
   "cell_type": "code",
   "execution_count": 9,
   "metadata": {},
   "outputs": [],
   "source": [
    "# import torch\n",
    "# from geomloss import SamplesLoss  # See also ImagesLoss, VolumesLoss\n",
    "\n",
    "# # Define a Sinkhorn (~Wasserstein) loss between sampled measures\n",
    "# loss = SamplesLoss(loss=\"sinkhorn\", p=2, blur=.05)\n",
    "# voxel_basic_tensor = torch.tensor(voxel_basic,dtype=torch.float64)\n",
    "# voxel_basic_points = torch.nonzero(voxel_basic_tensor > 0)\n",
    "\n",
    "# L = loss(voxel_basic_points, voxel_basic_points)  # By default, use constant weights = 1/number of samples"
   ]
  },
  {
   "cell_type": "code",
   "execution_count": 10,
   "metadata": {},
   "outputs": [
    {
     "name": "stdout",
     "output_type": "stream",
     "text": [
      "\n",
      "|             | Identical | Different | Small loss | Big loss | with Growth | Hole |\n",
      "|-------------|-----------|-----------|------------|----------|-------------|------|\n",
      "| **TVD**     |        |           |            |       |             |      |\n",
      "| **Wasserstein** |       |           |         |          |             |      |\n",
      "| **Hausdorff**   |       |        |            |          |             |      |\n",
      "| **Gradient**    | 1.0      |   0.3554        |    0.9996        |    0.9837      | 0.9822         |   0.9934   |\n",
      "|               |       |           |            |          |             |      |\n",
      "\n"
     ]
    }
   ],
   "source": [
    "table = f\"\"\"\n",
    "|             | Identical | Different | Small loss | Big loss | with Growth | Hole |\n",
    "|-------------|-----------|-----------|------------|----------|-------------|------|\n",
    "| **TVD**     |        |           |            |       |             |      |\n",
    "| **Wasserstein** |       |           |         |          |             |      |\n",
    "| **Hausdorff**   |       |        |            |          |             |      |\n",
    "| **Gradient**    | {gmsd_basic_to_basic}      |   {gmsd_basic_to_different}        |    {gmsd_basic_to_loss_small}        |    {gmsd_basic_to_loss_big}      | {gmsd_basic_to_with_blob}         |   {gmsd_hole}   |\n",
    "|               |       |           |            |          |             |      |\n",
    "\"\"\"\n",
    "\n",
    "print(table)"
   ]
  },
  {
   "cell_type": "markdown",
   "metadata": {},
   "source": [
    "|             | Identical | Different | Small loss | Big loss | with Growth | Hole |\n",
    "|-------------|-----------|-----------|------------|----------|-------------|------|\n",
    "| **TVD**     |           |           |            |          |             |      |\n",
    "| **Wasserstein** |       |           |            |          |             |      |\n",
    "| **Hausdorff**   |       |           |            |          |             |      |\n",
    "| **Gradient**    |       |           |            |          |             |      |\n",
    "|               |       |           |            |          |             |      |\n"
   ]
  }
 ],
 "metadata": {
  "kernelspec": {
   "display_name": "base",
   "language": "python",
   "name": "python3"
  },
  "language_info": {
   "codemirror_mode": {
    "name": "ipython",
    "version": 3
   },
   "file_extension": ".py",
   "mimetype": "text/x-python",
   "name": "python",
   "nbconvert_exporter": "python",
   "pygments_lexer": "ipython3",
   "version": "3.9.13"
  }
 },
 "nbformat": 4,
 "nbformat_minor": 2
}
