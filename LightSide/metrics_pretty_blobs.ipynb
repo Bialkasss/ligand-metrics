{
 "cells": [
  {
   "cell_type": "code",
   "execution_count": 107,
   "metadata": {},
   "outputs": [],
   "source": [
    "%run metrics.py"
   ]
  },
  {
   "cell_type": "code",
   "execution_count": 108,
   "metadata": {},
   "outputs": [],
   "source": [
    "import numpy as np"
   ]
  },
  {
   "cell_type": "code",
   "execution_count": 109,
   "metadata": {},
   "outputs": [],
   "source": [
    "# %pip install scipy --upgrade"
   ]
  },
  {
   "cell_type": "code",
   "execution_count": 110,
   "metadata": {},
   "outputs": [],
   "source": [
    "voxel_basic = np.load(\"voxel_base.npy\")\n",
    "voxel_different_hole = np.load(\"voxel_different_hole.npy\")\n",
    "voxel_different = np.load(\"voxel_different.npy\")\n",
    "voxel_loss_big = np.load(\"voxel_loss_big.npy\")\n",
    "voxel_loss_small = np.load(\"voxel_loss_small.npy\")\n",
    "voxel_with_blob = np.load(\"voxel_with_blob.npy\")\n",
    "voxel_negative_blob = np.load(\"voxel_negative_blob.npy\")"
   ]
  },
  {
   "cell_type": "code",
   "execution_count": 111,
   "metadata": {},
   "outputs": [],
   "source": [
    "blob_perfect = np.load(\"perfect_blob.npy\")\n",
    "blob_cut = np.load(\"cut_blob.npy\")"
   ]
  },
  {
   "cell_type": "code",
   "execution_count": 112,
   "metadata": {},
   "outputs": [],
   "source": [
    "# Calculate Total Variation Distances\n",
    "tvd_basic_to_basic = round(total_variation_distance(voxel_basic, voxel_basic), 4)\n",
    "tvd_basic_to_different = round(total_variation_distance(voxel_basic, voxel_different), 4)\n",
    "tvd_basic_to_loss_big = round(total_variation_distance(voxel_basic, voxel_loss_big), 4)\n",
    "tvd_basic_to_loss_small = round(total_variation_distance(voxel_basic, voxel_loss_small), 4)\n",
    "tvd_basic_to_with_blob = round(total_variation_distance(voxel_basic, voxel_with_blob), 4)\n",
    "tvd_hole = round(total_variation_distance(voxel_different, voxel_different_hole), 4) \n",
    "tvd_negative = round(total_variation_distance(voxel_with_blob, voxel_negative_blob), 4)\n",
    "symmetry_check_tvd =  round(total_variation_distance(voxel_different, voxel_basic), 4)\n",
    "symmetry_tvd = 1 if symmetry_check_tvd == tvd_basic_to_different else 0"
   ]
  },
  {
   "cell_type": "code",
   "execution_count": 113,
   "metadata": {},
   "outputs": [],
   "source": [
    "# Calculate Wasserstein Distances ravelled 1d\n",
    "wd_basic_to_basic = round(wasserstein_dst_voxel(voxel_basic, voxel_basic), 4)\n",
    "wd_basic_to_different = round(wasserstein_dst_voxel(voxel_basic, voxel_different), 4)\n",
    "wd_basic_to_loss_big = round(wasserstein_dst_voxel(voxel_basic, voxel_loss_big), 4)\n",
    "wd_basic_to_loss_small = round(wasserstein_dst_voxel(voxel_basic, voxel_loss_small), 4)\n",
    "wd_basic_to_with_blob = round(wasserstein_dst_voxel(voxel_basic, voxel_with_blob), 4)\n",
    "wd_hole = round(wasserstein_dst_voxel(voxel_different, voxel_different_hole), 4)  \n",
    "wd_negative = round(wasserstein_dst_voxel(voxel_with_blob, voxel_negative_blob), 4) \n",
    "symmetry_check_wd =  round(wasserstein_dst_voxel(voxel_different, voxel_basic), 4)\n",
    "symmetry_wd = 1 if symmetry_check_wd == wd_basic_to_different else 0"
   ]
  },
  {
   "cell_type": "code",
   "execution_count": 114,
   "metadata": {},
   "outputs": [],
   "source": [
    "# Calculate Gradient Magnitude Similarity Deviation\n",
    "gmsd_basic_to_basic = round(gradient_magnitude_similarity_deviation(voxel_basic, voxel_basic), 4)\n",
    "gmsd_basic_to_different = round(gradient_magnitude_similarity_deviation(voxel_basic, voxel_different), 4)\n",
    "gmsd_basic_to_loss_big = round(gradient_magnitude_similarity_deviation(voxel_basic, voxel_loss_big), 4)\n",
    "gmsd_basic_to_loss_small = round(gradient_magnitude_similarity_deviation(voxel_basic, voxel_loss_small), 4)\n",
    "gmsd_basic_to_with_blob = round(gradient_magnitude_similarity_deviation(voxel_basic, voxel_with_blob), 4)\n",
    "gmsd_hole = round(gradient_magnitude_similarity_deviation(voxel_different, voxel_different_hole), 4)  \n",
    "gmsd_negative = round(gradient_magnitude_similarity_deviation(voxel_with_blob, voxel_negative_blob), 4) \n",
    "symmetry_check_gmsd =  round(gradient_magnitude_similarity_deviation(voxel_different, voxel_basic), 4)\n",
    "symmetry_gmsd = 1 if symmetry_check_gmsd == gmsd_basic_to_different else 0"
   ]
  },
  {
   "cell_type": "code",
   "execution_count": 115,
   "metadata": {},
   "outputs": [],
   "source": [
    "qscore1_basic_to_basic = round(compute_q_score(voxel_basic, voxel_basic), 4)\n",
    "qscore1_basic_to_different = round(compute_q_score(voxel_basic, voxel_different), 4)\n",
    "qscore1_basic_to_loss_big = round(compute_q_score(voxel_basic, voxel_loss_big), 4)\n",
    "qscore1_basic_to_loss_small = round(compute_q_score(voxel_basic, voxel_loss_small), 4)\n",
    "qscore1_basic_to_with_blob = round(compute_q_score(voxel_basic, voxel_with_blob), 4)\n",
    "qscore1_hole = round(compute_q_score(voxel_different, voxel_different_hole), 4)  \n",
    "qscore1_negative = round(compute_q_score(voxel_with_blob, voxel_negative_blob), 4) \n",
    "symmetry_check_qscore1 = round(compute_q_score(voxel_different, voxel_basic), 4)\n",
    "symmetry_qscore1 = 1 if symmetry_check_qscore1 == qscore1_basic_to_different else 0"
   ]
  },
  {
   "cell_type": "code",
   "execution_count": 116,
   "metadata": {},
   "outputs": [
    {
     "name": "stdout",
     "output_type": "stream",
     "text": [
      "\n",
      "Simmilarity scores\n",
      "\n",
      "|                   | Identical | Different | Small loss | Big loss | with Growth | Hole   | Negative | Symetric |\n",
      "|-------------------|-----------|-----------|------------|----------|-------------|--------|----------|\n",
      "| **TVD**           | 1.0       | 0.8836    | 0.9999     | 0.9966   | 0.9966      | 0.9954 | 0.0851 |   1   |\n",
      "| **Wasserstein**   | 1.0       | 0.9138    | 0.9999     | 0.9966   | 0.9966      | 0.9954 | 0.0972 |   1   |\n",
      "| **Gradient**      | 1.0       | 0.3554    | 0.9996     | 0.9837   | 0.9822      | 0.9934 | 0.7597 |   1   |\n",
      "| **Q-score**       | 1.0       | 0.5396    | 0.999      | 0.9727   | 0.9749      | 0.9627 | 0.9749 |   1   |\n",
      "\n"
     ]
    }
   ],
   "source": [
    "table = f\"\"\"\n",
    "Simmilarity scores\n",
    "\n",
    "|                   | Identical | Different | Small loss | Big loss | with Growth | Hole   | Negative | Symetric |\n",
    "|-------------------|-----------|-----------|------------|----------|-------------|--------|----------|\n",
    "| **TVD**           | {tvd_basic_to_basic:<9} | {tvd_basic_to_different:<9} | {tvd_basic_to_loss_small:<10} | {tvd_basic_to_loss_big:<8} | {tvd_basic_to_with_blob:<11} | {tvd_hole:<4} | {tvd_negative:<5} |   {symmetry_tvd}   |\n",
    "| **Wasserstein**   | {wd_basic_to_basic:<9} | {wd_basic_to_different:<9} | {wd_basic_to_loss_small:<10} | {wd_basic_to_loss_big:<8} | {wd_basic_to_with_blob:<11} | {wd_hole:<4} | {wd_negative:<5} |   {symmetry_wd}   |\n",
    "| **Gradient**      | {gmsd_basic_to_basic:<9} | {gmsd_basic_to_different:<9} | {gmsd_basic_to_loss_small:<10} | {gmsd_basic_to_loss_big:<8} | {gmsd_basic_to_with_blob:<11} | {gmsd_hole:<4} | {gmsd_negative:<5} |   {symmetry_gmsd}   |\n",
    "| **Q-score**       | {qscore1_basic_to_basic:<9} | {qscore1_basic_to_different:<9} | {qscore1_basic_to_loss_small:<10} | {qscore1_basic_to_loss_big:<8} | {qscore1_basic_to_with_blob:<11} | {qscore1_hole:<4} | {qscore1_negative:<5} |   {symmetry_qscore1}   |\n",
    "\"\"\"\n",
    "\n",
    "print(table)"
   ]
  },
  {
   "cell_type": "markdown",
   "metadata": {},
   "source": [
    "#### Similarity scores for the actual blobs from the dark side"
   ]
  },
  {
   "cell_type": "code",
   "execution_count": 117,
   "metadata": {},
   "outputs": [],
   "source": [
    "tvd_blobs = round(total_variation_distance(blob_perfect, blob_cut), 4)\n",
    "wd_blobs = round(wasserstein_dst_voxel(blob_perfect, blob_cut), 4)\n",
    "gmsd_blobs = round(gradient_magnitude_similarity_deviation(blob_perfect, blob_cut), 4)\n",
    "qscore1_blobs = round(compute_q_score(blob_perfect, blob_cut), 4)"
   ]
  },
  {
   "cell_type": "code",
   "execution_count": 118,
   "metadata": {},
   "outputs": [
    {
     "data": {
      "text/plain": [
       "array([[[0., 0., 0., ..., 0., 0., 0.],\n",
       "        [0., 0., 0., ..., 0., 0., 0.],\n",
       "        [0., 0., 0., ..., 0., 0., 0.],\n",
       "        ...,\n",
       "        [0., 0., 0., ..., 0., 0., 0.],\n",
       "        [0., 0., 0., ..., 0., 0., 0.],\n",
       "        [0., 0., 0., ..., 0., 0., 0.]],\n",
       "\n",
       "       [[0., 0., 0., ..., 0., 0., 0.],\n",
       "        [0., 0., 0., ..., 0., 0., 0.],\n",
       "        [0., 0., 0., ..., 0., 0., 0.],\n",
       "        ...,\n",
       "        [0., 0., 0., ..., 0., 0., 0.],\n",
       "        [0., 0., 0., ..., 0., 0., 0.],\n",
       "        [0., 0., 0., ..., 0., 0., 0.]],\n",
       "\n",
       "       [[0., 0., 0., ..., 0., 0., 0.],\n",
       "        [0., 0., 0., ..., 0., 0., 0.],\n",
       "        [0., 0., 0., ..., 0., 0., 0.],\n",
       "        ...,\n",
       "        [0., 0., 0., ..., 0., 0., 0.],\n",
       "        [0., 0., 0., ..., 0., 0., 0.],\n",
       "        [0., 0., 0., ..., 0., 0., 0.]],\n",
       "\n",
       "       ...,\n",
       "\n",
       "       [[0., 0., 0., ..., 0., 0., 0.],\n",
       "        [0., 0., 0., ..., 0., 0., 0.],\n",
       "        [0., 0., 0., ..., 0., 0., 0.],\n",
       "        ...,\n",
       "        [0., 0., 0., ..., 0., 0., 0.],\n",
       "        [0., 0., 0., ..., 0., 0., 0.],\n",
       "        [0., 0., 0., ..., 0., 0., 0.]],\n",
       "\n",
       "       [[0., 0., 0., ..., 0., 0., 0.],\n",
       "        [0., 0., 0., ..., 0., 0., 0.],\n",
       "        [0., 0., 0., ..., 0., 0., 0.],\n",
       "        ...,\n",
       "        [0., 0., 0., ..., 0., 0., 0.],\n",
       "        [0., 0., 0., ..., 0., 0., 0.],\n",
       "        [0., 0., 0., ..., 0., 0., 0.]],\n",
       "\n",
       "       [[0., 0., 0., ..., 0., 0., 0.],\n",
       "        [0., 0., 0., ..., 0., 0., 0.],\n",
       "        [0., 0., 0., ..., 0., 0., 0.],\n",
       "        ...,\n",
       "        [0., 0., 0., ..., 0., 0., 0.],\n",
       "        [0., 0., 0., ..., 0., 0., 0.],\n",
       "        [0., 0., 0., ..., 0., 0., 0.]]])"
      ]
     },
     "execution_count": 118,
     "metadata": {},
     "output_type": "execute_result"
    }
   ],
   "source": [
    "blob_cut"
   ]
  },
  {
   "cell_type": "code",
   "execution_count": 119,
   "metadata": {},
   "outputs": [
    {
     "name": "stdout",
     "output_type": "stream",
     "text": [
      "cut_blob\n",
      "Number of 0 values in blob_cut: 1800965\n",
      "Number of 0 values in blob_cut: 9195\n",
      "Ratio of non-zero values: 0.005079661466389712\n",
      "\n",
      "perfect_blob\n",
      "Number of 0 values in blob_perfect: 1804382\n",
      "Number of 0 values in blob_perfect: 5778\n",
      "Ratio of non-zero values: 0.0031919830291244973\n"
     ]
    }
   ],
   "source": [
    "print(\"cut_blob\")\n",
    "zero_count = np.count_nonzero(blob_cut == 0)\n",
    "print(f\"Number of 0 values in blob_cut: {zero_count}\")\n",
    "non_zero_count = np.count_nonzero(blob_cut != 0)\n",
    "print(f\"Number of 0 values in blob_cut: {non_zero_count}\")\n",
    "print(f\"Ratio of non-zero values: {non_zero_count / (zero_count + non_zero_count)}\")\n",
    "print(\"\\nperfect_blob\")\n",
    "zero_count = np.count_nonzero(blob_perfect == 0)\n",
    "print(f\"Number of 0 values in blob_perfect: {zero_count}\")\n",
    "non_zero_count = np.count_nonzero(blob_perfect != 0)\n",
    "print(f\"Number of 0 values in blob_perfect: {non_zero_count}\")\n",
    "print(f\"Ratio of non-zero values: {non_zero_count / (zero_count + non_zero_count)}\")"
   ]
  },
  {
   "cell_type": "code",
   "execution_count": 120,
   "metadata": {},
   "outputs": [
    {
     "name": "stdout",
     "output_type": "stream",
     "text": [
      "\n",
      "Simmilarity scores for actual blobs\n",
      "\n",
      "|                   | Blobs | \n",
      "|-------------------|-----------|\n",
      "| **TVD**           | 0.9959    | \n",
      "| **Wasserstein**   | 0.9972    | \n",
      "| **Gradient**      | 0.984     | \n",
      "| **Q-score**       | 0.8927    | \n",
      "\n"
     ]
    }
   ],
   "source": [
    "table = f\"\"\"\n",
    "Simmilarity scores for actual blobs\n",
    "\n",
    "|                   | Blobs | \n",
    "|-------------------|-----------|\n",
    "| **TVD**           | {tvd_blobs:<9} | \n",
    "| **Wasserstein**   | {wd_blobs:<9} | \n",
    "| **Gradient**      | {gmsd_blobs:<9} | \n",
    "| **Q-score**       | {qscore1_blobs:<9} | \n",
    "\"\"\"\n",
    "\n",
    "print(table)"
   ]
  },
  {
   "cell_type": "markdown",
   "metadata": {},
   "source": [
    "**for 20.12**\n",
    "1) ~~Problem with q score in dark side blobs~~ DONE <br> *now we have high score regarding the negative test case blobs since we do not care for direction and qscore uses the cosine similarity* \n",
    "2) ~~create a negative blob & tests~~ DONE\n",
    "3) create bigger, smaller blobs & tests\n",
    "4) understand the score results DONE-ish\n",
    "5) ~~get rid of Hausdorff~~ DONE\n",
    "6) ~~change scale i.e. 1-perfect match 0 no match~~ DONE\n",
    "\n",
    "\n",
    "------\n"
   ]
  },
  {
   "cell_type": "markdown",
   "metadata": {},
   "source": [
    "- Normalized Hausdorff by dividing by diagonal of box (longest distance possible)"
   ]
  },
  {
   "cell_type": "markdown",
   "metadata": {},
   "source": [
    "- can divide differently in TVD to not work on 0.000x values\n",
    "- hausdorf isnt symmetric. How to approach? Maybe its good if we want to determine loss/growth differently?\n",
    "- gradient feels good, but we accidentally can end up with compeletly diffeent shapes of the same gradient.\n",
    "- wasserstein is flattened to 1d. not implemented in 3d."
   ]
  }
 ],
 "metadata": {
  "kernelspec": {
   "display_name": "Python 3",
   "language": "python",
   "name": "python3"
  },
  "language_info": {
   "codemirror_mode": {
    "name": "ipython",
    "version": 3
   },
   "file_extension": ".py",
   "mimetype": "text/x-python",
   "name": "python",
   "nbconvert_exporter": "python",
   "pygments_lexer": "ipython3",
   "version": "3.10.7"
  }
 },
 "nbformat": 4,
 "nbformat_minor": 2
}
