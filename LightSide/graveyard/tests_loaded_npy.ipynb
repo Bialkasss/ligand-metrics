{
 "cells": [
  {
   "cell_type": "code",
   "execution_count": 1,
   "metadata": {},
   "outputs": [],
   "source": [
    "import unittest\n",
    "import numpy as np\n",
    "from scipy.ndimage import binary_dilation, sobel\n",
    "from scipy.spatial.distance import cdist\n",
    "from scipy.stats import wasserstein_distance"
   ]
  },
  {
   "cell_type": "code",
   "execution_count": 2,
   "metadata": {},
   "outputs": [],
   "source": [
    "voxel_base = np.load(\"voxel_grid_base.npy\")\n",
    "voxel_identical = np.load(\"voxel_grid_identical.npy\")\n",
    "voxel_similar = np.load(\"voxel_grid_similiar.npy\")\n",
    "voxel_different = np.load(\"voxel_grid_different.npy\")\n",
    "voxel_growth = np.load(\"voxel_grid_growth.npy\")\n",
    "voxel_missing = np.load(\"voxel_grid_missing.npy\")"
   ]
  },
  {
   "cell_type": "markdown",
   "metadata": {},
   "source": [
    "## Hausdorff Distance \n",
    "Measure focusing on the maximum distance between the nearest points in each set.\n",
    "- Hausdorff Distance = 0: The grids are identical in terms of occupied voxel positions.<br>\n",
    "- Hausdorff Distance > 0: Some voxels in one grid are not directly aligned with voxels in the other grid.\n",
    "\n",
    "#### Definition\n",
    "\n",
    "\n",
    "$$\n",
    "d_H(A, B) = \\max\\{ h(A, B), h(B, A) \\}\n",
    "$$\n",
    "\n",
    "\n",
    "$$\n",
    "h(A, B) = \\max_{a \\in A} \\min_{b \\in B} d(a, b)\n",
    "$$\n",
    "\n",
    "d(a, b) denotes the distance between points a and b.\n",
    "\n",
    "$$ \n",
    "d(a, b) = \\sqrt{(x_2 - x_1)^2 + (y_2 - y_1)^2 + (z_2 - z_1)^2} \n",
    "$$\n",
    "\n",
    "#### Time complexity O(k1 x k2) where \n",
    "k1- number of occupied voxels in first grid<br>\n",
    "k2- number of occupied voxels in 2nd grid\n",
    "\n",
    "\n",
    "#### Properties\n",
    "\n",
    "1. **Symmetry**\n",
    "2. **Non-negativity**\n",
    "3. **Identity of indiscernibles**: If \\( d_H(A, B) = 0 \\), then the sets \\( A \\) and \\( B \\) are equivalent in the sense that they contain the same points.\n",
    "4. **Triangle Inequality**"
   ]
  },
  {
   "cell_type": "code",
   "execution_count": 3,
   "metadata": {},
   "outputs": [],
   "source": [
    "def hausdorff_distance(voxel1, voxel2):\n",
    "    \"\"\"\n",
    "    Calculate the Hausdorff distance between two 3D voxel grids.\n",
    "\n",
    "    The Hausdorff distance is the maximum distance of a set to the nearest point in the other set.\n",
    "    It measures how far the two voxel grids are from each other.\n",
    "\n",
    "    Parameters:\n",
    "    voxel1 (numpy.ndarray): A 3D numpy array representing the first voxel grid.\n",
    "    voxel2 (numpy.ndarray): A 3D numpy array representing the second voxel grid.\n",
    "\n",
    "    Returns:\n",
    "    float: The Hausdorff distance between the two voxel grids.\n",
    "    \"\"\"\n",
    "    # Get coordinates of occupied voxels in both grids\n",
    "    coords1 = np.array(np.nonzero(voxel1)).T\n",
    "    coords2 = np.array(np.nonzero(voxel2)).T\n",
    "\n",
    "    # Compute distances from each point in voxel1 to the closest point in voxel2\n",
    "    dists_1_to_2 = cdist(coords1, coords2, 'euclidean').min(axis=1)\n",
    "    dists_2_to_1 = cdist(coords2, coords1, 'euclidean').min(axis=1)\n",
    "\n",
    "    # Hausdorff distance is the max of these minimum distances\n",
    "    hausdorff_dist = max(dists_1_to_2.max(), dists_2_to_1.max())\n",
    "    return hausdorff_dist"
   ]
  },
  {
   "cell_type": "code",
   "execution_count": 4,
   "metadata": {},
   "outputs": [
    {
     "name": "stdout",
     "output_type": "stream",
     "text": [
      "Hausdorf distance between base and identical: 0.0\n",
      "Hausdorf distance between base and similar: 6.164414002968976\n",
      "Hausdorf distance between base and different: 16.0312195418814\n",
      "Hausdorf distance between base and growth: 8.48528137423857\n",
      "Hausdorf distance between base and missing: 15.524174696260024\n"
     ]
    }
   ],
   "source": [
    "print(f\"Hausdorf distance between base and identical: {hausdorff_distance(voxel_base, voxel_identical)}\")\n",
    "print(f\"Hausdorf distance between base and similar: {hausdorff_distance(voxel_base, voxel_similar)}\")\n",
    "print(f\"Hausdorf distance between base and different: {hausdorff_distance(voxel_base, voxel_different)}\")\n",
    "print(f\"Hausdorf distance between base and growth: {hausdorff_distance(voxel_base, voxel_growth)}\")\n",
    "print(f\"Hausdorf distance between base and missing: {hausdorff_distance(voxel_base, voxel_missing)}\")"
   ]
  },
  {
   "cell_type": "markdown",
   "metadata": {},
   "source": [
    "## Total Variation Distance (TVD)\n",
    "\n",
    "A measure that quantifies the difference between two probability distributions represented by voxel grids. It is calculated as the normalized absolute difference between the corresponding voxels in the two grids.\n",
    "\n",
    "- **Total Variation Distance = 0**: The grids are identical, meaning the corresponding voxel values are the same in both grids.<br>\n",
    "- **Total Variation Distance > 0**: There are differences between the corresponding voxel values in the two grids.\n",
    "\n",
    "#### Definition\n",
    "\n",
    "The Total Variation Distance is defined as:\n",
    "\n",
    "$$\n",
    "\\text{TVD}(A, B) = \\frac{1}{2} \\sum_{i} |A_i - B_i|\n",
    "$$\n",
    "\n",
    "We are using normalization so its [0,1], so the used formula is:\n",
    "\n",
    "$$\n",
    "   \\text{TVD} = \\frac{1}{2} \\cdot \\frac{\\sum_{i} |A_i - B_i|}{\\text{size of the grid}}\n",
    "$$\n",
    "\n",
    "Where \\( A_i \\) and \\( B_i \\) represent the values of the corresponding voxels in grids \\( A \\) and \\( B \\).\n",
    "\n",
    "#### Time Complexity O(n)\n",
    "\n",
    "\n",
    "where n is the total number of voxels in the voxel grids.\n",
    "\n",
    "#### Properties\n",
    "\n",
    "1. **Range**: The Total Variation Distance ranges from 0 to 1 (or 0 to 0.5 when normalized), where 0 indicates identical distributions and higher values indicate greater divergence.\n",
    "2. **Symmetry**\n",
    "3. **Non-negativity**\n",
    "4. **Identity of indiscernibles**: If TVD(A, B) = 0 , then the voxel grids \\( A \\) and \\( B \\) are equivalent in terms of their voxel values.\n",
    "5. **Triangle Inequality**"
   ]
  },
  {
   "cell_type": "code",
   "execution_count": 5,
   "metadata": {},
   "outputs": [],
   "source": [
    "def total_variation_distance(voxel1, voxel2):\n",
    "    \"\"\"\n",
    "    Calculate the Total Variation Distance (TVD) between two voxel arrays.\n",
    "\n",
    "    The Total Variation Distance is a measure of the difference between two \n",
    "    probability distributions. It is used to measure the difference between two voxel arrays.\n",
    "\n",
    "    Parameters:\n",
    "    voxel1 (np.ndarray): The first voxel array (3D).\n",
    "    voxel2 (np.ndarray): The second voxel array (3D).\n",
    "\n",
    "    Returns:\n",
    "    float: The Total Variation Distance between the two voxel arrays.\n",
    "    \"\"\"\n",
    "    # Compute absolute difference and normalize\n",
    "    abs_difference = np.abs(voxel1.astype(float) - voxel2.astype(float))\n",
    "    tvd = np.sum(abs_difference) / (2 * voxel1.size)\n",
    "    return tvd"
   ]
  },
  {
   "cell_type": "code",
   "execution_count": 6,
   "metadata": {},
   "outputs": [
    {
     "name": "stdout",
     "output_type": "stream",
     "text": [
      "Total Variation Distance between base and identical:  0.0\n",
      "Total Variation Distance between base and similar:  0.05550540842166918\n",
      "Total Variation Distance between base and different:  0.052648299054894925\n",
      "Total Variation Distance between base and growth:  0.10180856324675211\n",
      "Total Variation Distance between base and missing:  0.03904314774187322\n"
     ]
    }
   ],
   "source": [
    "print(\"Total Variation Distance between base and identical: \", total_variation_distance(voxel_base, voxel_identical))\n",
    "print(\"Total Variation Distance between base and similar: \", total_variation_distance(voxel_base, voxel_similar))\n",
    "print(\"Total Variation Distance between base and different: \", total_variation_distance(voxel_base, voxel_different))\n",
    "print(\"Total Variation Distance between base and growth: \", total_variation_distance(voxel_base, voxel_growth))\n",
    "print(\"Total Variation Distance between base and missing: \", total_variation_distance(voxel_base, voxel_missing))"
   ]
  },
  {
   "cell_type": "markdown",
   "metadata": {},
   "source": [
    "## \n",
    "\n",
    "## Wasserstein Distance\n",
    "\n",
    "A measure that quantifies the difference between two probability distributions represented by voxel grids. The Wasserstein distance (also known as the Earth Mover's Distance) takes into account the distance that needs to be \"moved\" to transform one distribution into another.\n",
    "\n",
    "- **Wasserstein Distance = 0**: The grids are identical, meaning the distributions represented by the voxel values are the same in both grids.<br>\n",
    "- **Wasserstein Distance > 0**: There are differences between the distributions represented by the corresponding voxel values in the two grids.\n",
    "\n",
    "#### Definition\n",
    "\n",
    "The Wasserstein Distance between two probability distributions \\( P \\) and \\( Q \\) is defined as:\n",
    "\n",
    "$$\n",
    "W(P, Q) = \\inf_{\\gamma \\in \\Gamma(P, Q)} \\int_{X \\times Y} c(x, y) d\\gamma(x, y)\n",
    "$$\n",
    "\n",
    "Where:\n",
    "- \\( \\Gamma(P, Q) \\) is the set of all possible couplings of \\( P \\) and \\( Q \\),\n",
    "- \\( c(x, y) \\) is the cost function representing the distance between points \\( x \\) and \\( y \\).\n",
    "\n",
    "#### Time Complexity O(n log n)\n",
    "\n",
    "\n",
    "#### Properties\n",
    "\n",
    "1. **Range**: The Wasserstein Distance is always non-negative and ranges from 0 to infinity, where 0 indicates identical distributions.\n",
    "2. **Symmetry**\n",
    "3. **Non-negativity**\n",
    "4. **Identity of indiscernibles**: If \\( W(P, Q) = 0 \\), then the distributions \\( P \\) and \\( Q \\) are equivalent in terms of their voxel values.\n",
    "5. **Triangle Inequality**\n"
   ]
  },
  {
   "cell_type": "code",
   "execution_count": 7,
   "metadata": {},
   "outputs": [],
   "source": [
    "def wasserstein_dst_voxel(voxel1, voxel2):\n",
    "    \"\"\"\n",
    "    Compute the Wasserstein distance between two voxel grids.\n",
    "    The function flattens the 3D voxel grids into 1D arrays and then computes the \n",
    "    Wasserstein distance between these arrays.\n",
    "    Parameters:\n",
    "    voxel1 (numpy.ndarray): The first voxel grid.\n",
    "    voxel2 (numpy.ndarray): The second voxel grid.\n",
    "    Returns:\n",
    "    float: The Wasserstein distance between the two voxel grids.\n",
    "    \"\"\"\n",
    "    # Flatten the voxel grids to 1D arrays\n",
    "    voxel1_flat = voxel1.ravel().astype(float)\n",
    "    voxel2_flat = voxel2.ravel().astype(float)\n",
    "    \n",
    "    # Compute Wasserstein distance\n",
    "    wasserstein_dist = wasserstein_distance(voxel1_flat, voxel2_flat)\n",
    "    return wasserstein_dist"
   ]
  },
  {
   "cell_type": "code",
   "execution_count": 8,
   "metadata": {},
   "outputs": [
    {
     "name": "stdout",
     "output_type": "stream",
     "text": [
      "Wasserstein distance between base and identical:  0.0\n",
      "Wasserstein distance between base and similar:  0.0067370468176728895\n",
      "Wasserstein distance between base and different:  0.0038859269250881194\n",
      "Wasserstein distance between base and growth:  0.09967560652231103\n",
      "Wasserstein distance between base and missing:  0.02769267304711749\n"
     ]
    }
   ],
   "source": [
    "print(\"Wasserstein distance between base and identical: \", wasserstein_dst_voxel(voxel_base, voxel_identical))\n",
    "print(\"Wasserstein distance between base and similar: \", wasserstein_dst_voxel(voxel_base, voxel_similar))\n",
    "print(\"Wasserstein distance between base and different: \", wasserstein_dst_voxel(voxel_base, voxel_different))\n",
    "print(\"Wasserstein distance between base and growth: \", wasserstein_dst_voxel(voxel_base, voxel_growth))\n",
    "print(\"Wasserstein distance between base and missing: \", wasserstein_dst_voxel(voxel_base, voxel_missing))"
   ]
  },
  {
   "cell_type": "markdown",
   "metadata": {},
   "source": [
    "## Gradient Magnitude Similarity Deviation (GMSD)\n",
    "\n",
    "Measure based on voxels gradient magnitudes. It quantifies how similar the structures within the voxel grids are by analyzing the gradient information, which highlights changes in intensity.\n",
    "Gradient Magnitude is a measure of the rate of change of intensity or value in an image or a function at a given point.\n",
    "\n",
    "- **GMSD = 1**: The grids are identical in terms of their gradient magnitudes.<br>\n",
    "- **GMSD < 1**: There are differences in the gradient magnitudes between the two grids, indicating dissimilarity.\n",
    "\n",
    "#### Definition\n",
    "\n",
    "The GMSD is defined as:\n",
    "\n",
    "$$\n",
    "\\text{GMSD}(A, B) = 1 - \\frac{1}{N} \\sum_{i} \\left| \\frac{G_A(i) - G_B(i)}{G_A(i) + G_B(i) + \\epsilon} \\right|\n",
    "$$\n",
    "\n",
    "Where:\n",
    "- \\( G_A(i) \\) and \\( G_B(i) \\) are the gradient magnitudes at voxel \\( i \\) for grids \\( A \\) and \\( B \\).\n",
    "- \\( N \\) is the total number of voxels.\n",
    "- epsilon is a small constant added to prevent division by zero.\n",
    "\n",
    "### Time Complexity O(n)\n",
    "\n",
    "### Properties\n",
    "\n",
    "1. **Range**: The GMSD ranges from 0 to 1, where 1 indicates identical gradient magnitudes and lower values indicate greater divergence.\n",
    "2. **Symmetry**\n",
    "3. **Non-negativity**\n",
    "4. **Identity of indiscernibles**: If GMSD(A, B) = 1 , then the voxel grids \\( A \\) and \\( B \\) are equivalent in terms of their gradient magnitudes.\n"
   ]
  },
  {
   "cell_type": "code",
   "execution_count": 9,
   "metadata": {},
   "outputs": [],
   "source": [
    "def gradient_magnitude_similarity_deviation(voxel1, voxel2):\n",
    "    \"\"\"\n",
    "    Compute the Gradient Magnitude Similarity Deviation (GMSD) between two voxel grids.\n",
    "    Parameters:\n",
    "    voxel1 (ndarray): The first 3D voxel grid.\n",
    "    voxel2 (ndarray): The second 3D voxel grid.\n",
    "    Returns:\n",
    "    float: The GMSD value, which is a measure of the similarity between the gradient magnitudes of the two voxel grids.\n",
    "           A value closer to 1 indicates higher similarity, while a value closer to 0 indicates lower similarity.\n",
    "    Notes:\n",
    "    - The function computes the gradient magnitude of each voxel grid using the Sobel operator along each axis.\n",
    "    - The absolute difference between the gradient magnitudes of the two voxel grids is then computed.\n",
    "    - The GMSD is calculated as 1 minus the mean of the normalized absolute differences.\n",
    "    - A small constant (1e-6) is added to the denominator to avoid division by zero.\n",
    "    \"\"\"\n",
    "    # Compute the gradient magnitude of each voxel grid\n",
    "    gradient_magnitude1 = np.sqrt(sum(sobel(voxel1, axis=i)**2 for i in range(3)))\n",
    "    gradient_magnitude2 = np.sqrt(sum(sobel(voxel2, axis=i)**2 for i in range(3)))\n",
    "    \n",
    "    # Compute the absolute difference of the gradient magnitudes\n",
    "    gmsd = 1- np.mean(np.abs((gradient_magnitude1 - gradient_magnitude2) / (gradient_magnitude1 + gradient_magnitude2 + 1e-6)))\n",
    "    return gmsd"
   ]
  },
  {
   "cell_type": "code",
   "execution_count": 10,
   "metadata": {},
   "outputs": [
    {
     "name": "stdout",
     "output_type": "stream",
     "text": [
      "Gradient Magnitude Similarity Deviation between base and identical:  1.0\n",
      "Gradient Magnitude Similarity Deviation between base and similar:  0.8569276114253821\n",
      "Gradient Magnitude Similarity Deviation between base and different:  0.8302531577720123\n",
      "Gradient Magnitude Similarity Deviation between base and growth:  0.8398348357589751\n",
      "Gradient Magnitude Similarity Deviation between base and missing:  0.8531313361705859\n"
     ]
    }
   ],
   "source": [
    "print(\"Gradient Magnitude Similarity Deviation between base and identical: \", gradient_magnitude_similarity_deviation(voxel_base, voxel_identical))\n",
    "print(\"Gradient Magnitude Similarity Deviation between base and similar: \", gradient_magnitude_similarity_deviation(voxel_base, voxel_similar))\n",
    "print(\"Gradient Magnitude Similarity Deviation between base and different: \", gradient_magnitude_similarity_deviation(voxel_base, voxel_different))\n",
    "print(\"Gradient Magnitude Similarity Deviation between base and growth: \", gradient_magnitude_similarity_deviation(voxel_base, voxel_growth))\n",
    "print(\"Gradient Magnitude Similarity Deviation between base and missing: \", gradient_magnitude_similarity_deviation(voxel_base, voxel_missing))"
   ]
  }
 ],
 "metadata": {
  "kernelspec": {
   "display_name": "Python 3",
   "language": "python",
   "name": "python3"
  },
  "language_info": {
   "codemirror_mode": {
    "name": "ipython",
    "version": 3
   },
   "file_extension": ".py",
   "mimetype": "text/x-python",
   "name": "python",
   "nbconvert_exporter": "python",
   "pygments_lexer": "ipython3",
   "version": "3.10.7"
  }
 },
 "nbformat": 4,
 "nbformat_minor": 2
}
